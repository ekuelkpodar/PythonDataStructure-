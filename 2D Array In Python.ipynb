{
 "cells": [
  {
   "cell_type": "markdown",
   "metadata": {
    "id": "xcpZ3uP82DNI"
   },
   "source": [
    "**Creating Array and Accessing Values**"
   ]
  },
  {
   "cell_type": "code",
   "execution_count": 1,
   "metadata": {
    "colab": {
     "base_uri": "https://localhost:8080/"
    },
    "executionInfo": {
     "elapsed": 108,
     "status": "ok",
     "timestamp": 1626061717060,
     "user": {
      "displayName": "Ekue Kpodar",
      "photoUrl": "",
      "userId": "04407939167580673470"
     },
     "user_tz": 240
    },
    "id": "V1pq5GHixsXV",
    "outputId": "7d9c309f-a2cf-4a90-c19c-3233744d3742"
   },
   "outputs": [
    {
     "name": "stdout",
     "output_type": "stream",
     "text": [
      "[49, 24, 19]\n",
      "24\n"
     ]
    }
   ],
   "source": [
    "from array import *\n",
    "\n",
    "T = [[23, 56, 45, 27], [49, 24,19], [20, 45, 11, 28], [17,14,33,45]]\n",
    "\n",
    "print(T[1])\n",
    "\n",
    "print(T[1][1])"
   ]
  },
  {
   "cell_type": "markdown",
   "metadata": {
    "id": "i7LMc-Mw2YQH"
   },
   "source": [
    "**Printing Array**"
   ]
  },
  {
   "cell_type": "code",
   "execution_count": 2,
   "metadata": {
    "colab": {
     "base_uri": "https://localhost:8080/"
    },
    "executionInfo": {
     "elapsed": 96,
     "status": "ok",
     "timestamp": 1626061730885,
     "user": {
      "displayName": "Ekue Kpodar",
      "photoUrl": "",
      "userId": "04407939167580673470"
     },
     "user_tz": 240
    },
    "id": "H9CrpUYeyJfU",
    "outputId": "418539b1-38e5-4dda-d64e-da2d6ed86f54"
   },
   "outputs": [
    {
     "name": "stdout",
     "output_type": "stream",
     "text": [
      "23 56 45 27 \n",
      "49 24 19 \n",
      "20 45 11 28 \n",
      "17 14 33 45 \n"
     ]
    }
   ],
   "source": [
    "\n",
    "for r in T:\n",
    "    for c in r:\n",
    "        print(c,end = \" \")\n",
    "    print()"
   ]
  },
  {
   "cell_type": "markdown",
   "metadata": {
    "id": "wRm1aLdZ2jqh"
   },
   "source": [
    "**Inserting Values**"
   ]
  },
  {
   "cell_type": "code",
   "execution_count": 4,
   "metadata": {
    "colab": {
     "base_uri": "https://localhost:8080/"
    },
    "executionInfo": {
     "elapsed": 119,
     "status": "ok",
     "timestamp": 1626061783273,
     "user": {
      "displayName": "Ekue Kpodar",
      "photoUrl": "",
      "userId": "04407939167580673470"
     },
     "user_tz": 240
    },
    "id": "ZRdZhFoqyPT1",
    "outputId": "09314ff2-26ba-454d-b399-9d1e27fd09ad"
   },
   "outputs": [
    {
     "name": "stdout",
     "output_type": "stream",
     "text": [
      "23 56 45 27 \n",
      "49 24 19 \n",
      "10 54 12 16 66 \n",
      "10 54 12 16 66 \n",
      "20 45 11 28 \n",
      "17 14 33 45 \n"
     ]
    }
   ],
   "source": [
    "\n",
    "\n",
    "T.insert(2, [10,54,12,16,66])\n",
    "\n",
    "for r in T:\n",
    "    for c in r:\n",
    "        print(c,end = \" \")\n",
    "    print()"
   ]
  },
  {
   "cell_type": "markdown",
   "metadata": {
    "id": "X_Za3Eue20b9"
   },
   "source": [
    "**Updating Values**"
   ]
  },
  {
   "cell_type": "code",
   "execution_count": 6,
   "metadata": {
    "colab": {
     "base_uri": "https://localhost:8080/"
    },
    "executionInfo": {
     "elapsed": 96,
     "status": "ok",
     "timestamp": 1626061822327,
     "user": {
      "displayName": "Ekue Kpodar",
      "photoUrl": "",
      "userId": "04407939167580673470"
     },
     "user_tz": 240
    },
    "id": "iqnsHU91yUTD",
    "outputId": "d4d9132f-6cc2-4713-ce92-cb611e795305"
   },
   "outputs": [
    {
     "name": "stdout",
     "output_type": "stream",
     "text": [
      "23 19 45 7 \n",
      "49 24 19 \n",
      "12 6 \n",
      "10 54 12 16 66 \n",
      "20 45 11 28 \n",
      "17 14 33 45 \n"
     ]
    }
   ],
   "source": [
    "\n",
    "\n",
    "T[2] = [12,6]\n",
    "T[0][1] = 19\n",
    "for r in T:\n",
    "    for c in r:\n",
    "        print(c,end = \" \")\n",
    "    print()"
   ]
  },
  {
   "cell_type": "markdown",
   "metadata": {
    "id": "JKbrhVoo28KT"
   },
   "source": [
    "**Deleting the Values**"
   ]
  },
  {
   "cell_type": "code",
   "execution_count": 7,
   "metadata": {
    "colab": {
     "base_uri": "https://localhost:8080/"
    },
    "executionInfo": {
     "elapsed": 89,
     "status": "ok",
     "timestamp": 1626061833647,
     "user": {
      "displayName": "Ekue Kpodar",
      "photoUrl": "",
      "userId": "04407939167580673470"
     },
     "user_tz": 240
    },
    "id": "vUQfXkczyaYs",
    "outputId": "17da7c78-be8a-4929-ef03-fdadeda7c5e8"
   },
   "outputs": [
    {
     "name": "stdout",
     "output_type": "stream",
     "text": [
      "23 19 45 7 \n",
      "49 24 19 \n",
      "12 6 \n",
      "20 45 11 28 \n",
      "17 14 33 45 \n"
     ]
    }
   ],
   "source": [
    "\n",
    "del T[3]\n",
    "\n",
    "for r in T:\n",
    "    for c in r:\n",
    "        print(c,end = \" \")\n",
    "    print()"
   ]
  }
 ],
 "metadata": {
  "colab": {
   "authorship_tag": "ABX9TyMYVzqPGir+P5cYh+4Vl00i",
   "name": "2D Array In Python.ipynb",
   "provenance": []
  },
  "kernelspec": {
   "display_name": "Python 3 (ipykernel)",
   "language": "python",
   "name": "python3"
  },
  "language_info": {
   "codemirror_mode": {
    "name": "ipython",
    "version": 3
   },
   "file_extension": ".py",
   "mimetype": "text/x-python",
   "name": "python",
   "nbconvert_exporter": "python",
   "pygments_lexer": "ipython3",
   "version": "3.9.7"
  }
 },
 "nbformat": 4,
 "nbformat_minor": 1
}
